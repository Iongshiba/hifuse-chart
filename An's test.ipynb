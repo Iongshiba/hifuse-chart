{
 "cells": [
  {
   "cell_type": "code",
   "execution_count": 1,
   "metadata": {},
   "outputs": [],
   "source": [
    "import numpy as np\n",
    "from torchvision.datasets import OxfordIIITPet\n",
    "import matplotlib.pyplot as plt\n",
    "from torchvision.transforms.functional import to_pil_image\n",
    "from torchvision.transforms import ToTensor, Resize\n",
    "from torch.utils.data import DataLoader\n",
    "from torch import nn, unsqueeze"
   ]
  },
  {
   "cell_type": "code",
   "execution_count": 2,
   "metadata": {},
   "outputs": [],
   "source": [
    "def show_images(images, num_samples=10, cols=5):\n",
    "    \"\"\"Plots some samples from the dataset\"\"\"\n",
    "    plt.figure(figsize=(15, 15))\n",
    "    idx = int(len(dataset) / num_samples)\n",
    "    print(images)\n",
    "    for i, img in enumerate(images):\n",
    "        if i % idx == 0:\n",
    "            plt.subplot(int(num_samples / cols) + 1, cols, int(i / idx) + 1)\n",
    "            plt.imshow(to_pil_image(img[0]))\n",
    "\n",
    "\n",
    "to_tensor = [Resize((224, 224)), ToTensor()]\n",
    "\n",
    "\n",
    "class Compose(object):\n",
    "    def __init__(self, transforms):\n",
    "        self.transforms = transforms\n",
    "\n",
    "    def __call__(self, image):\n",
    "        for t in self.transforms:\n",
    "            image = t(image)\n",
    "        return image\n",
    "\n",
    "\n",
    "dataset = OxfordIIITPet(root=\".\", download=True, transform=Compose(to_tensor))\n",
    "# show_images(dataset)"
   ]
  },
  {
   "cell_type": "code",
   "execution_count": 3,
   "metadata": {},
   "outputs": [
    {
     "name": "stdout",
     "output_type": "stream",
     "text": [
      "torch.Size([1, 3, 224, 224])\n",
      "torch.Size([1, 784, 128])\n"
     ]
    }
   ],
   "source": [
    "from model_utils import PatchEmbedding, Embedding\n",
    "\n",
    "sample = unsqueeze(dataset[0][0], 0)\n",
    "print(sample.shape)\n",
    "embedding = PatchEmbedding(3, 128, 8)(sample)\n",
    "print(embedding.shape)"
   ]
  },
  {
   "cell_type": "code",
   "execution_count": 4,
   "metadata": {},
   "outputs": [
    {
     "name": "stdout",
     "output_type": "stream",
     "text": [
      "torch.Size([1, 785, 128])\n"
     ]
    }
   ],
   "source": [
    "embedding = Embedding(3, 224, 128, 8, 0.1)(sample)\n",
    "print(embedding.shape)"
   ]
  }
 ],
 "metadata": {
  "kernelspec": {
   "display_name": "deeplearning",
   "language": "python",
   "name": "python3"
  },
  "language_info": {
   "codemirror_mode": {
    "name": "ipython",
    "version": 3
   },
   "file_extension": ".py",
   "mimetype": "text/x-python",
   "name": "python",
   "nbconvert_exporter": "python",
   "pygments_lexer": "ipython3",
   "version": "3.10.16"
  }
 },
 "nbformat": 4,
 "nbformat_minor": 2
}
