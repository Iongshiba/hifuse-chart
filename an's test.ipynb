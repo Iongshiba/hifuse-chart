{
 "cells": [
  {
   "cell_type": "code",
   "execution_count": 1,
   "metadata": {},
   "outputs": [],
   "source": [
    "from vitupernet_model import Embedding"
   ]
  },
  {
   "cell_type": "code",
   "execution_count": 2,
   "metadata": {},
   "outputs": [],
   "source": [
    "from torchvision.datasets import OxfordIIITPet\n",
    "from torchvision.transforms import Resize, ToTensor\n",
    "from torchvision.transforms.functional import to_pil_image\n",
    "import matplotlib.pyplot as plt\n",
    "\n",
    "to_tensor = [Resize((224, 224)), ToTensor()]\n",
    "\n",
    "\n",
    "class Compose(object):\n",
    "    def __init__(self, transforms):\n",
    "        self.transforms = transforms\n",
    "\n",
    "    def __call__(self, image):\n",
    "        for t in self.transforms:\n",
    "            image = t(image)\n",
    "        return image\n",
    "\n",
    "\n",
    "def show_images(images, num_samples=10, cols=5):\n",
    "    \"\"\"Plots some samples from the dataset\"\"\"\n",
    "    plt.figure(figsize=(15, 15))\n",
    "    idx = int(len(dataset) / num_samples)\n",
    "    print(images)\n",
    "    for i, img in enumerate(images):\n",
    "        if i % idx == 0:\n",
    "            plt.subplot(int(num_samples / cols) + 1, cols, int(i / idx) + 1)\n",
    "            plt.imshow(to_pil_image(img[0]))\n",
    "\n",
    "\n",
    "dataset = OxfordIIITPet(root=\".\", transform=Compose(to_tensor))\n",
    "\n",
    "# show_images(dataset, 10, 5)"
   ]
  },
  {
   "cell_type": "code",
   "execution_count": 3,
   "metadata": {},
   "outputs": [],
   "source": [
    "from torch import unsqueeze\n",
    "\n",
    "sample = unsqueeze(dataset[0][0], 0)"
   ]
  },
  {
   "cell_type": "code",
   "execution_count": 4,
   "metadata": {},
   "outputs": [
    {
     "ename": "AttributeError",
     "evalue": "'tuple' object has no attribute 'shape'",
     "output_type": "error",
     "traceback": [
      "\u001b[1;31m---------------------------------------------------------------------------\u001b[0m",
      "\u001b[1;31mAttributeError\u001b[0m                            Traceback (most recent call last)",
      "\u001b[1;32mc:\\Users\\DUC_AN\\Documents\\GitHub\\hifuse-chart\\an's test.ipynb Cell 4\u001b[0m line \u001b[0;36m8\n\u001b[0;32m      <a href='vscode-notebook-cell:/c%3A/Users/DUC_AN/Documents/GitHub/hifuse-chart/an%27s%20test.ipynb#W3sZmlsZQ%3D%3D?line=4'>5</a>\u001b[0m \u001b[39m# print(model)\u001b[39;00m\n\u001b[0;32m      <a href='vscode-notebook-cell:/c%3A/Users/DUC_AN/Documents/GitHub/hifuse-chart/an%27s%20test.ipynb#W3sZmlsZQ%3D%3D?line=6'>7</a>\u001b[0m output \u001b[39m=\u001b[39m model(sample)\n\u001b[1;32m----> <a href='vscode-notebook-cell:/c%3A/Users/DUC_AN/Documents/GitHub/hifuse-chart/an%27s%20test.ipynb#W3sZmlsZQ%3D%3D?line=7'>8</a>\u001b[0m \u001b[39mprint\u001b[39m(output\u001b[39m.\u001b[39;49mshape)\n\u001b[0;32m      <a href='vscode-notebook-cell:/c%3A/Users/DUC_AN/Documents/GitHub/hifuse-chart/an%27s%20test.ipynb#W3sZmlsZQ%3D%3D?line=8'>9</a>\u001b[0m \u001b[39m# torch.Size([1, 96, 56, 56])\u001b[39;00m\n\u001b[0;32m     <a href='vscode-notebook-cell:/c%3A/Users/DUC_AN/Documents/GitHub/hifuse-chart/an%27s%20test.ipynb#W3sZmlsZQ%3D%3D?line=9'>10</a>\u001b[0m \u001b[39m# torch.Size([1, 192, 28, 28])\u001b[39;00m\n\u001b[0;32m     <a href='vscode-notebook-cell:/c%3A/Users/DUC_AN/Documents/GitHub/hifuse-chart/an%27s%20test.ipynb#W3sZmlsZQ%3D%3D?line=10'>11</a>\u001b[0m \u001b[39m# torch.Size([1, 384, 14, 14])\u001b[39;00m\n\u001b[0;32m     <a href='vscode-notebook-cell:/c%3A/Users/DUC_AN/Documents/GitHub/hifuse-chart/an%27s%20test.ipynb#W3sZmlsZQ%3D%3D?line=11'>12</a>\u001b[0m \u001b[39m# torch.Size([1, 768, 7, 7])\u001b[39;00m\n",
      "\u001b[1;31mAttributeError\u001b[0m: 'tuple' object has no attribute 'shape'"
     ]
    }
   ],
   "source": [
    "from hifuse_model import HiFuse_Tiny\n",
    "\n",
    "model = HiFuse_Tiny(1)\n",
    "\n",
    "# print(model)\n",
    "\n",
    "cls_logits, bbox = model(sample)"
   ]
  },
  {
   "cell_type": "code",
   "execution_count": 7,
   "metadata": {},
   "outputs": [
    {
     "data": {
      "text/plain": [
       "2"
      ]
     },
     "execution_count": 7,
     "metadata": {},
     "output_type": "execute_result"
    }
   ],
   "source": [
    "print(cls_logits)"
   ]
  },
  {
   "cell_type": "code",
   "execution_count": null,
   "metadata": {},
   "outputs": [],
   "source": [
    "print(bbox)"
   ]
  }
 ],
 "metadata": {
  "kernelspec": {
   "display_name": "dl",
   "language": "python",
   "name": "python3"
  },
  "language_info": {
   "codemirror_mode": {
    "name": "ipython",
    "version": 3
   },
   "file_extension": ".py",
   "mimetype": "text/x-python",
   "name": "python",
   "nbconvert_exporter": "python",
   "pygments_lexer": "ipython3",
   "version": "3.10.16"
  }
 },
 "nbformat": 4,
 "nbformat_minor": 2
}
